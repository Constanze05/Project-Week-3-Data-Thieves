{
 "cells": [
  {
   "cell_type": "code",
   "execution_count": 1,
   "metadata": {},
   "outputs": [],
   "source": [
    "import requests\n",
    "import json\n",
    "import pandas as pd\n",
    "from requests.auth import HTTPBasicAuth\n",
    "from getpass import getpass\n",
    "import numpy as np"
   ]
  },
  {
   "cell_type": "code",
   "execution_count": 2,
   "metadata": {},
   "outputs": [
    {
     "data": {
      "text/plain": [
       "Index(['IATA', 'Airport', 'Location', 'Area', 'Passenger Role', '2010', '2011',\n",
       "       '2012', '2013', '2014', '2015', '2016', '2017'],\n",
       "      dtype='object')"
      ]
     },
     "execution_count": 2,
     "metadata": {},
     "output_type": "execute_result"
    }
   ],
   "source": [
    "airport = pd.read_csv('airportdata_public2.csv')\n",
    "#airport = airport.head(60)\n",
    "airport.columns"
   ]
  },
  {
   "cell_type": "code",
   "execution_count": 3,
   "metadata": {},
   "outputs": [
    {
     "data": {
      "text/html": [
       "<div>\n",
       "<style scoped>\n",
       "    .dataframe tbody tr th:only-of-type {\n",
       "        vertical-align: middle;\n",
       "    }\n",
       "\n",
       "    .dataframe tbody tr th {\n",
       "        vertical-align: top;\n",
       "    }\n",
       "\n",
       "    .dataframe thead th {\n",
       "        text-align: right;\n",
       "    }\n",
       "</style>\n",
       "<table border=\"1\" class=\"dataframe\">\n",
       "  <thead>\n",
       "    <tr style=\"text-align: right;\">\n",
       "      <th></th>\n",
       "      <th>Airport</th>\n",
       "      <th>Location</th>\n",
       "      <th>Area</th>\n",
       "      <th>Passenger Role</th>\n",
       "    </tr>\n",
       "  </thead>\n",
       "  <tbody>\n",
       "    <tr>\n",
       "      <td>0</td>\n",
       "      <td>El Arish International Airport</td>\n",
       "      <td>El Arish</td>\n",
       "      <td>north_africa</td>\n",
       "      <td>Non-Hub</td>\n",
       "    </tr>\n",
       "    <tr>\n",
       "      <td>1</td>\n",
       "      <td>Rabah Bitat Airport</td>\n",
       "      <td>Annaba</td>\n",
       "      <td>north_africa</td>\n",
       "      <td>Non-Hub</td>\n",
       "    </tr>\n",
       "    <tr>\n",
       "      <td>2</td>\n",
       "      <td>Aalborg Airport</td>\n",
       "      <td>Aalborg</td>\n",
       "      <td>nordics</td>\n",
       "      <td>Small</td>\n",
       "    </tr>\n",
       "    <tr>\n",
       "      <td>3</td>\n",
       "      <td>Al Ain International Airport</td>\n",
       "      <td>Al Ain</td>\n",
       "      <td>middle_east</td>\n",
       "      <td>Non-Hub</td>\n",
       "    </tr>\n",
       "    <tr>\n",
       "      <td>4</td>\n",
       "      <td>Anapa Airport</td>\n",
       "      <td>Anapa</td>\n",
       "      <td>russia</td>\n",
       "      <td>Small</td>\n",
       "    </tr>\n",
       "    <tr>\n",
       "      <td>...</td>\n",
       "      <td>...</td>\n",
       "      <td>...</td>\n",
       "      <td>...</td>\n",
       "      <td>...</td>\n",
       "    </tr>\n",
       "    <tr>\n",
       "      <td>1253</td>\n",
       "      <td>Queenstown Airport</td>\n",
       "      <td>Queenstown</td>\n",
       "      <td>oceania</td>\n",
       "      <td>Small</td>\n",
       "    </tr>\n",
       "    <tr>\n",
       "      <td>1254</td>\n",
       "      <td>Zurich Airport</td>\n",
       "      <td>Zurich</td>\n",
       "      <td>switzerland</td>\n",
       "      <td>Large</td>\n",
       "    </tr>\n",
       "    <tr>\n",
       "      <td>1255</td>\n",
       "      <td>Zakynthos International Airport</td>\n",
       "      <td>Zakynthos</td>\n",
       "      <td>greece</td>\n",
       "      <td>Small</td>\n",
       "    </tr>\n",
       "    <tr>\n",
       "      <td>1256</td>\n",
       "      <td>Zhuhai Jinwan Airport</td>\n",
       "      <td>Zhuhai</td>\n",
       "      <td>east_asia</td>\n",
       "      <td>Non-Hub</td>\n",
       "    </tr>\n",
       "    <tr>\n",
       "      <td>1257</td>\n",
       "      <td>Osmani International Airport</td>\n",
       "      <td>Sylhet</td>\n",
       "      <td>south_asia</td>\n",
       "      <td>Non-Hub</td>\n",
       "    </tr>\n",
       "  </tbody>\n",
       "</table>\n",
       "<p>1258 rows × 4 columns</p>\n",
       "</div>"
      ],
      "text/plain": [
       "                              Airport    Location          Area Passenger Role\n",
       "0      El Arish International Airport    El Arish  north_africa        Non-Hub\n",
       "1                 Rabah Bitat Airport      Annaba  north_africa        Non-Hub\n",
       "2                     Aalborg Airport     Aalborg       nordics          Small\n",
       "3        Al Ain International Airport      Al Ain   middle_east        Non-Hub\n",
       "4                       Anapa Airport       Anapa        russia          Small\n",
       "...                               ...         ...           ...            ...\n",
       "1253               Queenstown Airport  Queenstown       oceania          Small\n",
       "1254                   Zurich Airport      Zurich   switzerland          Large\n",
       "1255  Zakynthos International Airport   Zakynthos        greece          Small\n",
       "1256            Zhuhai Jinwan Airport      Zhuhai     east_asia        Non-Hub\n",
       "1257     Osmani International Airport      Sylhet    south_asia        Non-Hub\n",
       "\n",
       "[1258 rows x 4 columns]"
      ]
     },
     "execution_count": 3,
     "metadata": {},
     "output_type": "execute_result"
    }
   ],
   "source": [
    "airports = airport[['Airport', 'Location', 'Area', 'Passenger Role']]\n",
    "airports"
   ]
  },
  {
   "cell_type": "code",
   "execution_count": null,
   "metadata": {},
   "outputs": [],
   "source": [
    "airport_dict = dict(zip(airports.IATA,airports.Airport))\n",
    "airport_dict"
   ]
  },
  {
   "cell_type": "code",
   "execution_count": null,
   "metadata": {},
   "outputs": [],
   "source": [
    "#location_dict = dict(zip(airports.IATA,airports.Location))\n",
    "#location_dict"
   ]
  },
  {
   "cell_type": "code",
   "execution_count": null,
   "metadata": {},
   "outputs": [],
   "source": [
    "#area_dict = dict(zip(airports.IATA,airports.Area))\n",
    "#area_dict"
   ]
  },
  {
   "cell_type": "code",
   "execution_count": null,
   "metadata": {},
   "outputs": [],
   "source": [
    "#passenger_dict = dict(zip(airports[\"IATA\"],airports[\"Passenger Role\"]))\n",
    "#passenger_dict"
   ]
  },
  {
   "cell_type": "code",
   "execution_count": null,
   "metadata": {},
   "outputs": [],
   "source": [
    "#location_dict = dict(zip(airports[\"IATA\"],airports.Location))\n",
    "#location_dict"
   ]
  },
  {
   "cell_type": "code",
   "execution_count": null,
   "metadata": {},
   "outputs": [],
   "source": [
    "#routes['area_source'] = routes[' source airport'].map(area_dict)\n",
    "#routes['area_destination'] = routes[' destination apirport'].map(area_dict)\n",
    "#routes['source_airport'] = routes[' source airport'].map(airport_dict)\n",
    "#routes['destination_airport'] = routes[' destination apirport'].map(airport_dict)\n",
    "#routes['passenger_role'] = routes[' source airport'].map(passenger_dict)\n",
    "#routes['location'] = routes[' source airport'].map(location_dict)"
   ]
  },
  {
   "cell_type": "code",
   "execution_count": null,
   "metadata": {},
   "outputs": [],
   "source": [
    "#final = routes[[' source airport','source_airport','area_source',' destination apirport', 'destination_airport','area_destination','location', 'passenger_role']]\n",
    "#final"
   ]
  }
 ],
 "metadata": {
  "kernelspec": {
   "display_name": "Python 3",
   "language": "python",
   "name": "python3"
  },
  "language_info": {
   "codemirror_mode": {
    "name": "ipython",
    "version": 3
   },
   "file_extension": ".py",
   "mimetype": "text/x-python",
   "name": "python",
   "nbconvert_exporter": "python",
   "pygments_lexer": "ipython3",
   "version": "3.7.4"
  }
 },
 "nbformat": 4,
 "nbformat_minor": 2
}
